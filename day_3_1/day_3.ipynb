{
  "nbformat": 4,
  "nbformat_minor": 0,
  "metadata": {
    "colab": {
      "name": "day_3.ipynb",
      "provenance": [],
      "authorship_tag": "ABX9TyOM+wyNsjo54P1OOg6iQwO8",
      "include_colab_link": true
    },
    "kernelspec": {
      "name": "python3",
      "display_name": "Python 3"
    },
    "language_info": {
      "name": "python"
    }
  },
  "cells": [
    {
      "cell_type": "markdown",
      "metadata": {
        "id": "view-in-github",
        "colab_type": "text"
      },
      "source": [
        "<a href=\"https://colab.research.google.com/github/nefetorve/Advent-of-Code/blob/main/day_3_1/day_3.ipynb\" target=\"_parent\"><img src=\"https://colab.research.google.com/assets/colab-badge.svg\" alt=\"Open In Colab\"/></a>"
      ]
    },
    {
      "cell_type": "code",
      "metadata": {
        "id": "eQor8brIGH60"
      },
      "source": [
        "test = [\"00100\", \"11110\", \"10110\", \"10111\", \"10101\", \"01111\", \"00111\", \"11100\", \"10000\", \"11001\", \"00010\", \"01010\"]\n",
        "with open('input.txt') as f:\n",
        "    test = f.read().splitlines()\n",
        "test_as_values = []\n",
        "len_test = len(test)\n",
        "\n",
        "for element in test:\n",
        "  test_as_values.append((list(element)))"
      ],
      "execution_count": 1,
      "outputs": []
    },
    {
      "cell_type": "code",
      "metadata": {
        "id": "2ML03DgAKfRe"
      },
      "source": [
        "import pandas as pd\n",
        "df = pd.DataFrame(test_as_values).astype(int)\n",
        "mask = (df.sum() >= len_test/2)\n"
      ],
      "execution_count": 2,
      "outputs": []
    },
    {
      "cell_type": "code",
      "metadata": {
        "id": "GVFWWW5RM4E-"
      },
      "source": [
        "epsilon = [] # v\n",
        "gamma = [] # ^\n",
        "for i in mask:\n",
        "  if i == True:\n",
        "    gamma.append(1)\n",
        "    epsilon.append(0)\n",
        "  if i == False:\n",
        "    gamma.append(0)\n",
        "    epsilon.append(1)"
      ],
      "execution_count": 3,
      "outputs": []
    },
    {
      "cell_type": "code",
      "metadata": {
        "colab": {
          "base_uri": "https://localhost:8080/"
        },
        "id": "N7O3zOmkN1ax",
        "outputId": "bd5d839d-0ccb-44b1-8efc-d7929e6d1547"
      },
      "source": [
        "epsilon"
      ],
      "execution_count": 4,
      "outputs": [
        {
          "output_type": "execute_result",
          "data": {
            "text/plain": [
              "[0, 1, 0, 1, 1, 1, 1, 1, 1, 0, 0, 1]"
            ]
          },
          "metadata": {},
          "execution_count": 4
        }
      ]
    },
    {
      "cell_type": "code",
      "metadata": {
        "colab": {
          "base_uri": "https://localhost:8080/"
        },
        "id": "or1v2U0dX2Mv",
        "outputId": "d5c61a1c-1ed6-464f-8574-0fc790f2f42c"
      },
      "source": [
        "gamma"
      ],
      "execution_count": 5,
      "outputs": [
        {
          "output_type": "execute_result",
          "data": {
            "text/plain": [
              "[1, 0, 1, 0, 0, 0, 0, 0, 0, 1, 1, 0]"
            ]
          },
          "metadata": {},
          "execution_count": 5
        }
      ]
    },
    {
      "cell_type": "code",
      "metadata": {
        "colab": {
          "base_uri": "https://localhost:8080/"
        },
        "id": "jsYX9nFQOA5F",
        "outputId": "4736937e-4b09-453a-cad7-becbe9d34477"
      },
      "source": [
        "len(gamma)\n",
        "binary_to_decimal = [2**x for x in range(len(gamma)-1,-1, -1)]\n",
        "sum_decimal_gamma = []\n",
        "sum_decimal_epsilon = []\n",
        "for idx,binary in enumerate(binary_to_decimal):\n",
        "  values_gamma = binary*gamma[idx]\n",
        "  sum_decimal_gamma.append(values_gamma)\n",
        "  values_epsion = binary*epsilon[idx]\n",
        "  sum_decimal_epsilon.append(values_epsion)\n",
        "sum(sum_decimal_gamma)\n",
        "sum(sum_decimal_epsilon)"
      ],
      "execution_count": 6,
      "outputs": [
        {
          "output_type": "execute_result",
          "data": {
            "text/plain": [
              "1529"
            ]
          },
          "metadata": {},
          "execution_count": 6
        }
      ]
    },
    {
      "cell_type": "code",
      "metadata": {
        "id": "HPqWuG0aRW1t"
      },
      "source": [
        "#sum(sum_decimal_epsilon) * sum(sum_decimal_gamma)"
      ],
      "execution_count": 7,
      "outputs": []
    }
  ]
}