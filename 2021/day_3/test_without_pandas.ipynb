{
  "nbformat": 4,
  "nbformat_minor": 0,
  "metadata": {
    "colab": {
      "name": "Untitled17.ipynb",
      "provenance": [],
      "authorship_tag": "ABX9TyP2Jp1U15hDaNY6A2POD2IP",
      "include_colab_link": true
    },
    "kernelspec": {
      "name": "python3",
      "display_name": "Python 3"
    },
    "language_info": {
      "name": "python"
    }
  },
  "cells": [
    {
      "cell_type": "markdown",
      "metadata": {
        "id": "view-in-github",
        "colab_type": "text"
      },
      "source": [
        "<a href=\"https://colab.research.google.com/github/nefetorve/Advent-of-Code/blob/main/2021/day_3/test_without_pandas.ipynb\" target=\"_parent\"><img src=\"https://colab.research.google.com/assets/colab-badge.svg\" alt=\"Open In Colab\"/></a>"
      ]
    },
    {
      "cell_type": "code",
      "metadata": {
        "id": "UxESJ1kHu05m"
      },
      "source": [
        "test = [\"00100\", \"11110\", \"10110\", \"10111\", \"10101\", \"01111\", \"00111\", \"11100\", \"10000\", \"11001\", \"00010\", \"01010\"]"
      ],
      "execution_count": 1,
      "outputs": []
    },
    {
      "cell_type": "code",
      "metadata": {
        "id": "O8Drgd_4u1fO"
      },
      "source": [
        "test_as_values = []\n",
        "test_list = []\n",
        "for element in test:\n",
        "  element = list(element)\n",
        "  test_list.append(list(map(int, element)))"
      ],
      "execution_count": 2,
      "outputs": []
    },
    {
      "cell_type": "code",
      "metadata": {
        "id": "OBcI1IlQypa_"
      },
      "source": [
        "import numpy as np\n",
        "test_list = np.array(test_list)"
      ],
      "execution_count": 3,
      "outputs": []
    },
    {
      "cell_type": "code",
      "metadata": {
        "id": "FJhTnGpou-Fz"
      },
      "source": [
        "mask = np.sum(test_list,axis=0) >= len(test_list)/2"
      ],
      "execution_count": 4,
      "outputs": []
    },
    {
      "cell_type": "code",
      "metadata": {
        "id": "De8-sOYjx-Vo"
      },
      "source": [
        "gamma = []\n",
        "epsilon = []\n",
        "for i in mask:\n",
        "  if i == True:\n",
        "    gamma.append(1)\n",
        "    epsilon.append(0)\n",
        "  if i == False:\n",
        "    gamma.append(0)\n",
        "    epsilon.append(1)\n",
        "\n",
        "\n"
      ],
      "execution_count": 5,
      "outputs": []
    },
    {
      "cell_type": "code",
      "metadata": {
        "id": "-nMJLU_o0kpa"
      },
      "source": [
        "x = \"\".join(str(x) for x in gamma)\n",
        "x = int(x,2)"
      ],
      "execution_count": 6,
      "outputs": []
    },
    {
      "cell_type": "code",
      "metadata": {
        "id": "qjXvN7UxxUyV"
      },
      "source": [
        "y = \"\".join(str(x) for x in epsilon)\n",
        "y = int(y,2)"
      ],
      "execution_count": 7,
      "outputs": []
    },
    {
      "cell_type": "code",
      "metadata": {
        "colab": {
          "base_uri": "https://localhost:8080/"
        },
        "id": "TaEQ4-IXw7nL",
        "outputId": "dd9a7a05-77c5-47a2-deb9-146b351be142"
      },
      "source": [
        "x*y"
      ],
      "execution_count": 8,
      "outputs": [
        {
          "output_type": "execute_result",
          "data": {
            "text/plain": [
              "198"
            ]
          },
          "metadata": {},
          "execution_count": 8
        }
      ]
    }
  ]
}