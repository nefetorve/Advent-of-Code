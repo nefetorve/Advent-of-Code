{
  "nbformat": 4,
  "nbformat_minor": 0,
  "metadata": {
    "colab": {
      "name": "day_1.ipynb",
      "provenance": [],
      "collapsed_sections": [],
      "authorship_tag": "ABX9TyNbbAtfx0xcl0Sz+RouPvk5",
      "include_colab_link": true
    },
    "kernelspec": {
      "name": "python3",
      "display_name": "Python 3"
    },
    "language_info": {
      "name": "python"
    }
  },
  "cells": [
    {
      "cell_type": "markdown",
      "metadata": {
        "id": "view-in-github",
        "colab_type": "text"
      },
      "source": [
        "<a href=\"https://colab.research.google.com/github/nefetorve/Advent-of-Code/blob/main/day_1/day_1.ipynb\" target=\"_parent\"><img src=\"https://colab.research.google.com/assets/colab-badge.svg\" alt=\"Open In Colab\"/></a>"
      ]
    },
    {
      "cell_type": "code",
      "metadata": {
        "id": "X4bj8O6nuJwc"
      },
      "source": [
        "import pandas as pd"
      ],
      "execution_count": null,
      "outputs": []
    },
    {
      "cell_type": "code",
      "metadata": {
        "id": "PRty7EmQu2Bt"
      },
      "source": [
        "import pandas as pd\n",
        "\n",
        "data = pd.read_csv('input.txt', header = None)"
      ],
      "execution_count": null,
      "outputs": []
    },
    {
      "cell_type": "code",
      "metadata": {
        "colab": {
          "base_uri": "https://localhost:8080/"
        },
        "id": "IRoA5mOnzzKM",
        "outputId": "724451fa-9db8-45a1-8e6b-7b918d2b654a"
      },
      "source": [
        "data.sum(axis=0)"
      ],
      "execution_count": null,
      "outputs": [
        {
          "output_type": "execute_result",
          "data": {
            "text/plain": [
              "0    5400596\n",
              "dtype: int64"
            ]
          },
          "metadata": {},
          "execution_count": 346
        }
      ]
    },
    {
      "cell_type": "code",
      "metadata": {
        "id": "OZyTiLuLz7ca"
      },
      "source": [
        "pair = 3\n",
        "list = []\n",
        "for i in range(len(data)):\n",
        "  list.append(data[0][i:pair].sum())\n",
        "  pair+=1"
      ],
      "execution_count": null,
      "outputs": []
    },
    {
      "cell_type": "code",
      "metadata": {
        "colab": {
          "base_uri": "https://localhost:8080/"
        },
        "id": "4SfhDSV70CeJ",
        "outputId": "f3a5ed96-d6a7-4222-973a-7acdfe9e775f"
      },
      "source": [
        "data[1:4].sum()"
      ],
      "execution_count": null,
      "outputs": [
        {
          "output_type": "execute_result",
          "data": {
            "text/plain": [
              "0    579\n",
              "dtype: int64"
            ]
          },
          "metadata": {},
          "execution_count": 392
        }
      ]
    },
    {
      "cell_type": "code",
      "metadata": {
        "id": "ATZdZdLOU3RL"
      },
      "source": [
        "sum = 0\n",
        "for idx,i in enumerate(list):\n",
        "  if idx+1 >= len(list):\n",
        "    break\n",
        "  if i <= list[idx+1]:\n",
        "    sum +=1"
      ],
      "execution_count": null,
      "outputs": []
    },
    {
      "cell_type": "code",
      "metadata": {
        "colab": {
          "base_uri": "https://localhost:8080/"
        },
        "id": "melhxxJrVZwo",
        "outputId": "001c4e6f-57db-415a-fbe6-81dbea5efe5c"
      },
      "source": [
        "sum"
      ],
      "execution_count": null,
      "outputs": [
        {
          "output_type": "execute_result",
          "data": {
            "text/plain": [
              "1428"
            ]
          },
          "metadata": {},
          "execution_count": 433
        }
      ]
    }
  ]
}