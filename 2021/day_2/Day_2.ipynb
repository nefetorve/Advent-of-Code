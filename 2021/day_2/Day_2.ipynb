{
  "nbformat": 4,
  "nbformat_minor": 0,
  "metadata": {
    "colab": {
      "name": "Day 2.ipynb",
      "provenance": [],
      "authorship_tag": "ABX9TyOhqThsIUi5vwKzF0iLNGLw",
      "include_colab_link": true
    },
    "kernelspec": {
      "name": "python3",
      "display_name": "Python 3"
    },
    "language_info": {
      "name": "python"
    }
  },
  "cells": [
    {
      "cell_type": "markdown",
      "metadata": {
        "id": "view-in-github",
        "colab_type": "text"
      },
      "source": [
        "<a href=\"https://colab.research.google.com/github/nefetorve/Advent-of-Code/blob/main/2021/day_2/Day_2.ipynb\" target=\"_parent\"><img src=\"https://colab.research.google.com/assets/colab-badge.svg\" alt=\"Open In Colab\"/></a>"
      ]
    },
    {
      "cell_type": "code",
      "metadata": {
        "id": "d6YihF36P7Ie"
      },
      "source": [
        "import pickle\n",
        "start = [0,0] #[0]horizontal (forward),[1] depth(down,up)\n",
        "positionlist = []\n",
        "\n",
        "with open('input.txt') as f:\n",
        "    lines = f.read().splitlines()"
      ],
      "execution_count": null,
      "outputs": []
    },
    {
      "cell_type": "code",
      "metadata": {
        "id": "xVV9KRBKRNg_"
      },
      "source": [
        "for line in lines:\n",
        "  positionlist.append(line.split(\" \"))"
      ],
      "execution_count": null,
      "outputs": []
    },
    {
      "cell_type": "code",
      "metadata": {
        "id": "P2a5yUyAUxVg"
      },
      "source": [
        "for position in positionlist:\n",
        "  if position[0] == \"forward\":\n",
        "    start[0] += int(position[1])\n",
        "  if position[0] == \"down\":\n",
        "    start[1] += int(position[1])\n",
        "  if position[0] == \"up\":\n",
        "    start[1] -= int(position[1])\n",
        "\n"
      ],
      "execution_count": null,
      "outputs": []
    },
    {
      "cell_type": "code",
      "metadata": {
        "colab": {
          "base_uri": "https://localhost:8080/"
        },
        "id": "y4gU68EwVg4B",
        "outputId": "4521363a-bef2-4da9-d28b-fcc03564dbf9"
      },
      "source": [
        "start[0] * start[1]"
      ],
      "execution_count": null,
      "outputs": [
        {
          "output_type": "execute_result",
          "data": {
            "text/plain": [
              "2091984"
            ]
          },
          "metadata": {},
          "execution_count": 62
        }
      ]
    },
    {
      "cell_type": "markdown",
      "metadata": {
        "id": "vY3LmAb7Z7Y5"
      },
      "source": [
        "--- Part Two ---\n",
        "Based on your calculations, the planned course doesn't seem to make any sense. You find the submarine manual and discover that the process is actually slightly more complicated.\n",
        "\n",
        "In addition to horizontal position and depth, you'll also need to track a third value, aim, which also starts at 0. The commands also mean something entirely different than you first thought:\n",
        "\n",
        "down X increases your aim by X units.\n",
        "up X decreases your aim by X units.\n",
        "forward X does two things:\n",
        "It increases your horizontal position by X units.\n",
        "It increases your depth by your aim multiplied by X.\n",
        "Again note that since you're on a submarine, down and up do the opposite of what you might expect: \"down\" means aiming in the positive direction.\n",
        "\n",
        "Now, the above example does something different:\n",
        "\n",
        "forward 5 adds 5 to your horizontal position, a total of 5. Because your aim is 0, your depth does not change.\n",
        "down 5 adds 5 to your aim, resulting in a value of 5.\n",
        "forward 8 adds 8 to your horizontal position, a total of 13. Because your aim is 5, your depth increases by 8*5=40.\n",
        "up 3 decreases your aim by 3, resulting in a value of 2.\n",
        "down 8 adds 8 to your aim, resulting in a value of 10.\n",
        "forward 2 adds 2 to your horizontal position, a total of 15. Because your aim is 10, your depth increases by 2*10=20 to a total of 60.\n",
        "After following these new instructions, you would have a horizontal position of 15 and a depth of 60. (Multiplying these produces 900.)\n",
        "\n",
        "Using this new interpretation of the commands, calculate the horizontal position and depth you would have after following the planned course. What do you get if you multiply your final horizontal position by your final depth?"
      ]
    },
    {
      "cell_type": "code",
      "metadata": {
        "id": "WR11PIxBZ-nc"
      },
      "source": [
        "start = [0,0] #[0]horizontal (forward),[1] depth(down,up)\n",
        "positionlist = []\n",
        "\n",
        "with open('input.txt') as f:\n",
        "    lines = f.read().splitlines()"
      ],
      "execution_count": null,
      "outputs": []
    },
    {
      "cell_type": "code",
      "metadata": {
        "id": "03RsmtX6aILs"
      },
      "source": [
        "depth = 0\n",
        "horizontal = 0 \n",
        "aim = 0 \n",
        "for line in lines:\n",
        "  positionlist.append(line.split(\" \"))\n",
        "\n",
        "for position in positionlist:\n",
        "  if position[0] == \"forward\":\n",
        "    horizontal += int(position[1])\n",
        "    depth += (aim * int(position[1]))\n",
        "  if position[0] == \"down\":\n",
        "    aim += int(position[1])\n",
        "  if position[0] == \"up\":\n",
        "    aim -= int(position[1])"
      ],
      "execution_count": null,
      "outputs": []
    },
    {
      "cell_type": "code",
      "metadata": {
        "colab": {
          "base_uri": "https://localhost:8080/"
        },
        "id": "mN7wrZfedKvv",
        "outputId": "006c40fc-5104-42ca-b410-beda08fa1d9f"
      },
      "source": [
        "position_calculated = [horizontal,depth]\n",
        "position_calculated"
      ],
      "execution_count": null,
      "outputs": [
        {
          "output_type": "execute_result",
          "data": {
            "text/plain": [
              "[1968, 1060092]"
            ]
          },
          "metadata": {},
          "execution_count": 91
        }
      ]
    },
    {
      "cell_type": "code",
      "metadata": {
        "colab": {
          "base_uri": "https://localhost:8080/"
        },
        "id": "e9z5eMqMdMmQ",
        "outputId": "07e41a0f-e924-4256-9ac7-bf249d39c99c"
      },
      "source": [
        "position_calculated[0] * position_calculated[1]"
      ],
      "execution_count": null,
      "outputs": [
        {
          "output_type": "execute_result",
          "data": {
            "text/plain": [
              "2086261056"
            ]
          },
          "metadata": {},
          "execution_count": 92
        }
      ]
    }
  ]
}