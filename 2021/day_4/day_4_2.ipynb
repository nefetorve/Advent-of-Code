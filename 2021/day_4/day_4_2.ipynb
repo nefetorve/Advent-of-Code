{
  "nbformat": 4,
  "nbformat_minor": 0,
  "metadata": {
    "colab": {
      "name": "Kopia notatnika day4_1.ipynb",
      "provenance": [],
      "collapsed_sections": [],
      "authorship_tag": "ABX9TyMlDDvRur0aImqomSQA+VCR",
      "include_colab_link": true
    },
    "kernelspec": {
      "name": "python3",
      "display_name": "Python 3"
    },
    "language_info": {
      "name": "python"
    }
  },
  "cells": [
    {
      "cell_type": "markdown",
      "metadata": {
        "id": "view-in-github",
        "colab_type": "text"
      },
      "source": [
        "<a href=\"https://colab.research.google.com/github/nefetorve/Advent-of-Code/blob/main/2021/day4/4_2.ipynb\" target=\"_parent\"><img src=\"https://colab.research.google.com/assets/colab-badge.svg\" alt=\"Open In Colab\"/></a>"
      ]
    },
    {
      "cell_type": "code",
      "metadata": {
        "id": "sTqzzkSfpBOm"
      },
      "source": [
        "import numpy as np\n",
        "numbers = [7,4,9,5,11,17,23,2,0,14,21,24,10,16,13,6,15,25,12,22,18,20,8,19,3,26,1]\n",
        "\n",
        "arrays =[\"22 13 17 11  0\",\n",
        "\" 8  2 23  4 24\",\n",
        "\"21  9 14 16  7\",\n",
        "\" 6 10  3 18  5\",\n",
        "\" 1 12 20 15 19\",\n",
        "\"\",\n",
        "\" 3 15  0  2 22\",\n",
        "\" 9 18 13 17  5\",\n",
        "\"19  8  7 25 23\",\n",
        "\"20 11 10 24  4\",\n",
        "\"14 21 16 12  6\",\n",
        "\"\",\n",
        "\"14 21 17 24  4\",\n",
        "\"10 16 15  9 19\",\n",
        "\"18  8 23 26 20\",\n",
        "\"22 11 13  6  5\",\n",
        "\" 2  0 12  3  7\"]\n",
        "with open('input.txt') as f:\n",
        "    arrays = f.read().splitlines()\n",
        "\n",
        "numbers = list(map(int,arrays[0].split(\",\")))\n",
        "arrays = arrays[2:]"
      ],
      "execution_count": 1,
      "outputs": []
    },
    {
      "cell_type": "code",
      "metadata": {
        "id": "zRWlXYqhqlrm"
      },
      "source": [
        "rows = []\n",
        "array_bingo = []\n",
        "empty_str = \"\"\n",
        "for row in arrays + [empty_str]:\n",
        "  if row !=empty_str:\n",
        "    rows.append(row)\n",
        "  if row==empty_str:\n",
        "    array_bingo.append(rows)\n",
        "    rows = []\n",
        "#array_bingo.append(rows)\n",
        "array_bingo = np.array(array_bingo)\n",
        "shape = array_bingo.shape"
      ],
      "execution_count": 2,
      "outputs": []
    },
    {
      "cell_type": "code",
      "metadata": {
        "id": "B5wLLHgb0_K4"
      },
      "source": [
        "array_bingo_copy = []\n",
        "for row in array_bingo:\n",
        "  for element in row:\n",
        "    for i in element.split():\n",
        "      if i.isdigit():\n",
        "        array_bingo_copy.append(int(i))"
      ],
      "execution_count": 3,
      "outputs": []
    },
    {
      "cell_type": "code",
      "metadata": {
        "id": "Ce6PcYQRu-M2"
      },
      "source": [
        "array_bingo = np.array(array_bingo_copy)"
      ],
      "execution_count": 4,
      "outputs": []
    },
    {
      "cell_type": "code",
      "metadata": {
        "id": "7BLXNZR4qRdH"
      },
      "source": [
        "array_bingo = array_bingo.reshape(-1,5,5)"
      ],
      "execution_count": 5,
      "outputs": []
    },
    {
      "cell_type": "code",
      "metadata": {
        "id": "Fn6xTS4qJHuP"
      },
      "source": [
        "random_number = 0 "
      ],
      "execution_count": 6,
      "outputs": []
    },
    {
      "cell_type": "code",
      "metadata": {
        "id": "Wwd7oR5WMapO"
      },
      "source": [
        "mask = (array_bingo[:][:][:] == float(\"inf\"))\n",
        "array_bingo_copy = array_bingo\n",
        "stop = 0 \n",
        "list_of_index = []\n",
        "for _, number in enumerate(numbers):\n",
        "  \n",
        "  for num_arr,arr_bingo in enumerate(array_bingo):\n",
        "    calculate_sum_ax1 = mask[num_arr].sum(axis=1)\n",
        "    calculate_sum_ax0 = mask[num_arr].sum(axis=0)\n",
        "    if num_arr in list_of_index:\n",
        "      continue\n",
        "    # print(num_arr,number,calculate_sum_ax1,calculate_sum_ax0)\n",
        "    if (max(calculate_sum_ax1) == 5) or (max(calculate_sum_ax0) == 5):\n",
        "      idx = num_arr\n",
        "      random_number = numbers[_-1] \n",
        "      \n",
        "     # print(random_number)\n",
        "      stop += 1\n",
        "      list_of_index.append(idx)\n",
        "      if len(list_of_index) == len(array_bingo):\n",
        "        break\n",
        "    mask[num_arr] +=  (arr_bingo == number)\n",
        "  "
      ],
      "execution_count": 7,
      "outputs": []
    },
    {
      "cell_type": "code",
      "metadata": {
        "colab": {
          "base_uri": "https://localhost:8080/"
        },
        "id": "51bUK9nhLezk",
        "outputId": "000a4e61-2b53-4e2b-e9c9-37309de0e47b"
      },
      "source": [
        "sum(sum(~mask[list_of_index[-1]]*array_bingo[list_of_index[-1]])) * random_number"
      ],
      "execution_count": 8,
      "outputs": [
        {
          "output_type": "execute_result",
          "data": {
            "text/plain": [
              "30070"
            ]
          },
          "metadata": {},
          "execution_count": 8
        }
      ]
    }
  ]
}