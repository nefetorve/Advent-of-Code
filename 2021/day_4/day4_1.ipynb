{
  "nbformat": 4,
  "nbformat_minor": 0,
  "metadata": {
    "colab": {
      "name": "day4_1.ipynb",
      "provenance": [],
      "authorship_tag": "ABX9TyN34zt810mA23CKfxH9M1Th",
      "include_colab_link": true
    },
    "kernelspec": {
      "name": "python3",
      "display_name": "Python 3"
    },
    "language_info": {
      "name": "python"
    }
  },
  "cells": [
    {
      "cell_type": "markdown",
      "metadata": {
        "id": "view-in-github",
        "colab_type": "text"
      },
      "source": [
        "<a href=\"https://colab.research.google.com/github/nefetorve/Advent-of-Code/blob/main/2021/day_4/day4_1.ipynb\" target=\"_parent\"><img src=\"https://colab.research.google.com/assets/colab-badge.svg\" alt=\"Open In Colab\"/></a>"
      ]
    },
    {
      "cell_type": "code",
      "metadata": {
        "id": "sTqzzkSfpBOm"
      },
      "source": [
        "import numpy as np\n",
        "numbers = [7,4,9,5,11,17,23,2,0,14,21,24,10,16,13,6,15,25,12,22,18,20,8,19,3,26,1]\n",
        "\n",
        "arrays =[\"22 13 17 11  0\",\n",
        "\" 8  2 23  4 24\",\n",
        "\"21  9 14 16  7\",\n",
        "\" 6 10  3 18  5\",\n",
        "\" 1 12 20 15 19\",\n",
        "\"\",\n",
        "\" 3 15  0  2 22\",\n",
        "\" 9 18 13 17  5\",\n",
        "\"19  8  7 25 23\",\n",
        "\"20 11 10 24  4\",\n",
        "\"14 21 16 12  6\",\n",
        "\"\",\n",
        "\"14 21 17 24  4\",\n",
        "\"10 16 15  9 19\",\n",
        "\"18  8 23 26 20\",\n",
        "\"22 11 13  6  5\",\n",
        "\" 2  0 12  3  7\"]\n",
        "with open('input.txt') as f:\n",
        "    arrays = f.read().splitlines()\n",
        "\n",
        "numbers = list(map(int,arrays[0].split(\",\")))\n",
        "arrays = arrays[2:]"
      ],
      "execution_count": 378,
      "outputs": []
    },
    {
      "cell_type": "code",
      "metadata": {
        "id": "zRWlXYqhqlrm"
      },
      "source": [
        "rows = []\n",
        "array_bingo = []\n",
        "empty_str = \"\"\n",
        "for row in arrays + [empty_str]:\n",
        "  if row !=empty_str:\n",
        "    rows.append(row)\n",
        "  if row==empty_str:\n",
        "    array_bingo.append(rows)\n",
        "    rows = []\n",
        "#array_bingo.append(rows)\n",
        "array_bingo = np.array(array_bingo)\n",
        "shape = array_bingo.shape"
      ],
      "execution_count": 379,
      "outputs": []
    },
    {
      "cell_type": "code",
      "metadata": {
        "id": "B5wLLHgb0_K4"
      },
      "source": [
        "array_bingo_copy = []\n",
        "for row in array_bingo:\n",
        "  for element in row:\n",
        "    for i in element.split():\n",
        "      if i.isdigit():\n",
        "        array_bingo_copy.append(int(i))"
      ],
      "execution_count": 380,
      "outputs": []
    },
    {
      "cell_type": "code",
      "metadata": {
        "id": "Ce6PcYQRu-M2"
      },
      "source": [
        "array_bingo = np.array(array_bingo_copy)"
      ],
      "execution_count": 381,
      "outputs": []
    },
    {
      "cell_type": "code",
      "metadata": {
        "id": "7BLXNZR4qRdH"
      },
      "source": [
        "array_bingo = array_bingo.reshape(-1,5,5)"
      ],
      "execution_count": 382,
      "outputs": []
    },
    {
      "cell_type": "code",
      "metadata": {
        "id": "Fn6xTS4qJHuP"
      },
      "source": [
        "random_number = 0 "
      ],
      "execution_count": 383,
      "outputs": []
    },
    {
      "cell_type": "code",
      "metadata": {
        "id": "Wwd7oR5WMapO"
      },
      "source": [
        "mask = (array_bingo[:][:][:] == 9999999999999999999999999999999999999999999999999999999999999999999999999999999999999999999)\n",
        "stop = 0 \n",
        "for _, number in enumerate(numbers):\n",
        "  if stop == 1:\n",
        "    break\n",
        "  for num_arr,arr_bingo in enumerate(array_bingo):\n",
        "    calculate_sum_ax1 = mask[num_arr].sum(axis=1)\n",
        "    calculate_sum_ax0 = mask[num_arr].sum(axis=0)\n",
        "    if (max(calculate_sum_ax1) == 5) or (max(calculate_sum_ax0) == 5):\n",
        "      random_number = numbers[_-1] \n",
        "      stop = 1\n",
        "      break\n",
        "    mask[num_arr] +=  (arr_bingo == number)"
      ],
      "execution_count": 384,
      "outputs": []
    },
    {
      "cell_type": "code",
      "metadata": {
        "colab": {
          "base_uri": "https://localhost:8080/"
        },
        "id": "BGb4F1UqRgIo",
        "outputId": "3e38dc1d-e533-4ba8-88c1-1f40cc562baf"
      },
      "source": [
        "sum(sum(~mask[num_arr]*array_bingo[num_arr])) * random_number"
      ],
      "execution_count": 385,
      "outputs": [
        {
          "output_type": "execute_result",
          "data": {
            "text/plain": [
              "33462"
            ]
          },
          "metadata": {},
          "execution_count": 385
        }
      ]
    },
    {
      "cell_type": "code",
      "metadata": {
        "id": "GVjKmryTVfSk"
      },
      "source": [
        ""
      ],
      "execution_count": 386,
      "outputs": []
    }
  ]
}