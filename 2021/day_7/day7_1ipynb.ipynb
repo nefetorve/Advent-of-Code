{
  "nbformat": 4,
  "nbformat_minor": 0,
  "metadata": {
    "colab": {
      "name": "day7_1ipynb",
      "provenance": [],
      "authorship_tag": "ABX9TyOupTbWwX4kk4zaMH+pG6X8",
      "include_colab_link": true
    },
    "kernelspec": {
      "name": "python3",
      "display_name": "Python 3"
    },
    "language_info": {
      "name": "python"
    }
  },
  "cells": [
    {
      "cell_type": "markdown",
      "metadata": {
        "id": "view-in-github",
        "colab_type": "text"
      },
      "source": [
        "<a href=\"https://colab.research.google.com/github/nefetorve/Advent-of-Code/blob/main/2021/day_7/day7_1ipynb.ipynb\" target=\"_parent\"><img src=\"https://colab.research.google.com/assets/colab-badge.svg\" alt=\"Open In Colab\"/></a>"
      ]
    },
    {
      "cell_type": "code",
      "metadata": {
        "id": "B8dPksoP4mkT"
      },
      "source": [
        "import numpy as np\n",
        "data = [\"16,1,2,0,4,2,7,1,2,14\"]\n",
        "with open('input.txt') as f:\n",
        "    data = f.read().splitlines()\n",
        "new_data =[]\n",
        "for element in data:\n",
        "  new_data.append(element.split(\",\"))"
      ],
      "execution_count": 21,
      "outputs": []
    },
    {
      "cell_type": "code",
      "metadata": {
        "id": "-7sk_Grw5QIy"
      },
      "source": [
        "data = []\n",
        "for list in new_data:\n",
        "  for element in list:\n",
        "    element = int(element)\n",
        "    data.append(element)"
      ],
      "execution_count": 22,
      "outputs": []
    },
    {
      "cell_type": "code",
      "metadata": {
        "id": "SRhZ_Tcb5YkH"
      },
      "source": [
        "data = np.array(data)\n",
        "median_data = np.median(data)"
      ],
      "execution_count": 23,
      "outputs": []
    },
    {
      "cell_type": "code",
      "metadata": {
        "colab": {
          "base_uri": "https://localhost:8080/"
        },
        "id": "lxNjMTPU7Vto",
        "outputId": "8ff74ebf-75be-4f73-910d-1cbc2934d596"
      },
      "source": [
        "sum(abs(data - median_data))"
      ],
      "execution_count": 24,
      "outputs": [
        {
          "output_type": "execute_result",
          "data": {
            "text/plain": [
              "345197.0"
            ]
          },
          "metadata": {},
          "execution_count": 24
        }
      ]
    },
    {
      "cell_type": "code",
      "metadata": {
        "id": "2AdygBCj7Eiy"
      },
      "source": [
        ""
      ],
      "execution_count": 24,
      "outputs": []
    },
    {
      "cell_type": "code",
      "metadata": {
        "id": "pm2NKUyL6wn3"
      },
      "source": [
        ""
      ],
      "execution_count": 24,
      "outputs": []
    }
  ]
}