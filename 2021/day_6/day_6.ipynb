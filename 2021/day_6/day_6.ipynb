{
  "nbformat": 4,
  "nbformat_minor": 0,
  "metadata": {
    "colab": {
      "name": "Untitled18.ipynb",
      "provenance": [],
      "authorship_tag": "ABX9TyOHhnB0DzVXqTxG/B8SZDFA",
      "include_colab_link": true
    },
    "kernelspec": {
      "name": "python3",
      "display_name": "Python 3"
    },
    "language_info": {
      "name": "python"
    }
  },
  "cells": [
    {
      "cell_type": "markdown",
      "metadata": {
        "id": "view-in-github",
        "colab_type": "text"
      },
      "source": [
        "<a href=\"https://colab.research.google.com/github/nefetorve/Advent-of-Code/blob/main/2021/day_6/day_6.ipynb\" target=\"_parent\"><img src=\"https://colab.research.google.com/assets/colab-badge.svg\" alt=\"Open In Colab\"/></a>"
      ]
    },
    {
      "cell_type": "code",
      "metadata": {
        "id": "gvF5lAPqeuhh"
      },
      "source": [
        "import numpy as np\n",
        "data = [\"3,4,3,1,2\"]\n",
        "# with open('input.txt') as f:\n",
        "#     data = f.read().splitlines()\n",
        "new_data =[]\n",
        "for element in data:\n",
        "  new_data.append(element.split(\",\"))"
      ],
      "execution_count": 1,
      "outputs": []
    },
    {
      "cell_type": "code",
      "metadata": {
        "id": "bPRHokOagMZf"
      },
      "source": [
        "data = []\n",
        "for list in new_data:\n",
        "  for element in list:\n",
        "    element = int(element)\n",
        "    data.append(element)\n"
      ],
      "execution_count": 2,
      "outputs": []
    },
    {
      "cell_type": "code",
      "metadata": {
        "id": "BoS1XZTEfgah"
      },
      "source": [
        "reset_lanternfish = 6\n",
        "new_lanternfish = 8 \n",
        "time = 32"
      ],
      "execution_count": 3,
      "outputs": []
    },
    {
      "cell_type": "code",
      "metadata": {
        "id": "ZEKgSap1hC0d"
      },
      "source": [
        "data = np.array(data)"
      ],
      "execution_count": 4,
      "outputs": []
    },
    {
      "cell_type": "code",
      "metadata": {
        "id": "8rADO5cqhdl0"
      },
      "source": [
        "check_new_fish = False\n",
        "len_idex = 0\n",
        "for day in range(time):\n",
        "  data = data -1\n",
        "  index_of_null = np.where(data < 0)\n",
        "  if index_of_null:\n",
        "    data[index_of_null] = reset_lanternfish\n",
        "    check_new_fish = True\n",
        "    len_index = len(index_of_null[0])\n",
        "  else: \n",
        "    check_new_fish = False\n",
        "  if check_new_fish:\n",
        "    data =np.append(data,np.repeat(new_lanternfish,len_index))\n",
        "  sum(data)\n",
        "  \n",
        "\n",
        "  #print(day,data,len_index)"
      ],
      "execution_count": 5,
      "outputs": []
    },
    {
      "cell_type": "code",
      "metadata": {
        "colab": {
          "base_uri": "https://localhost:8080/"
        },
        "id": "i_fvP5c7oyiV",
        "outputId": "aeec80c4-42ea-46b4-9c06-b5cb2d460377"
      },
      "source": [
        "len(data)"
      ],
      "execution_count": 6,
      "outputs": [
        {
          "output_type": "execute_result",
          "data": {
            "text/plain": [
              "88"
            ]
          },
          "metadata": {},
          "execution_count": 6
        }
      ]
    },
    {
      "cell_type": "code",
      "metadata": {
        "id": "u6xDJUXriNYJ"
      },
      "source": [
        ""
      ],
      "execution_count": 6,
      "outputs": []
    },
    {
      "cell_type": "code",
      "metadata": {
        "id": "_ODUmZzAmui8"
      },
      "source": [
        ""
      ],
      "execution_count": 6,
      "outputs": []
    },
    {
      "cell_type": "code",
      "metadata": {
        "id": "RHrvGa2JneNi"
      },
      "source": [
        ""
      ],
      "execution_count": 6,
      "outputs": []
    }
  ]
}