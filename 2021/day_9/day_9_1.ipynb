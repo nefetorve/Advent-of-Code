{
  "nbformat": 4,
  "nbformat_minor": 0,
  "metadata": {
    "colab": {
      "name": "day_9_1.ipynb",
      "provenance": [],
      "authorship_tag": "ABX9TyMor7Jq3L8DXaB1oOLahV+O",
      "include_colab_link": true
    },
    "kernelspec": {
      "name": "python3",
      "display_name": "Python 3"
    },
    "language_info": {
      "name": "python"
    }
  },
  "cells": [
    {
      "cell_type": "markdown",
      "metadata": {
        "id": "view-in-github",
        "colab_type": "text"
      },
      "source": [
        "<a href=\"https://colab.research.google.com/github/nefetorve/Advent-of-Code/blob/main/2021/day_9/day_9_1.ipynb\" target=\"_parent\"><img src=\"https://colab.research.google.com/assets/colab-badge.svg\" alt=\"Open In Colab\"/></a>"
      ]
    },
    {
      "cell_type": "code",
      "execution_count": 267,
      "metadata": {
        "id": "wpyj_vI0JPv5"
      },
      "outputs": [],
      "source": [
        "data = [\"2199943210\",\n",
        "\"3987894921\",\n",
        "\"9856789892\",\n",
        "\"8767896789\",\n",
        "\"9899965678\"]\n",
        "with open('input.txt') as f:\n",
        "    data = f.read().splitlines()\n",
        "new_data =[]\n",
        "for element in data:\n",
        "  new_data.append(element.split(\",\"))\n",
        "data =[]\n",
        "for lista in new_data:\n",
        "  new_element = []\n",
        "  for element in lista:\n",
        "    new_element.append(element)\n",
        "  \n",
        "  data.append(new_element)\n",
        "len_elements = len(data)"
      ]
    },
    {
      "cell_type": "code",
      "source": [
        "len_elements"
      ],
      "metadata": {
        "colab": {
          "base_uri": "https://localhost:8080/"
        },
        "id": "HdOgr_0d0ZZf",
        "outputId": "a06d6d92-2322-4a39-c68f-6da3d2e06276"
      },
      "execution_count": 268,
      "outputs": [
        {
          "output_type": "execute_result",
          "data": {
            "text/plain": [
              "100"
            ]
          },
          "metadata": {},
          "execution_count": 268
        }
      ]
    },
    {
      "cell_type": "code",
      "source": [
        "elements = []\n",
        "output = [int(x) for z in data for x in str(z) if x.isdigit()]\n",
        "len(output)"
      ],
      "metadata": {
        "colab": {
          "base_uri": "https://localhost:8080/"
        },
        "id": "-L-lm-avJhJ7",
        "outputId": "c8fc78ba-bd2f-4472-f036-1dc0ca298714"
      },
      "execution_count": 269,
      "outputs": [
        {
          "output_type": "execute_result",
          "data": {
            "text/plain": [
              "10000"
            ]
          },
          "metadata": {},
          "execution_count": 269
        }
      ]
    },
    {
      "cell_type": "code",
      "source": [
        "v = []\n",
        "list_neighboor = []\n",
        "import numpy as np\n",
        "my_array = np.array(output).reshape(len_elements,-1)\n",
        "my_array"
      ],
      "metadata": {
        "colab": {
          "base_uri": "https://localhost:8080/"
        },
        "id": "CMV4QIB4NB51",
        "outputId": "c952164d-1572-4a0b-bd04-0b89d6d9ddb2"
      },
      "execution_count": 270,
      "outputs": [
        {
          "output_type": "execute_result",
          "data": {
            "text/plain": [
              "array([[8, 7, 6, ..., 4, 3, 4],\n",
              "       [9, 8, 7, ..., 7, 4, 9],\n",
              "       [8, 7, 6, ..., 8, 9, 8],\n",
              "       ...,\n",
              "       [8, 9, 8, ..., 7, 9, 7],\n",
              "       [9, 5, 9, ..., 8, 9, 8],\n",
              "       [3, 4, 5, ..., 9, 9, 9]])"
            ]
          },
          "metadata": {},
          "execution_count": 270
        }
      ]
    },
    {
      "cell_type": "code",
      "source": [
        "arr_shape = my_array.shape\n",
        "\n",
        "for i,m in enumerate(my_array):\n",
        "  for j,element in enumerate(m):\n",
        "    v.append(element)\n",
        "    idx_i = [i+1,i-1]\n",
        "    idx_j = [j+1,j-1]\n",
        "    if idx_i[0] not in range(-1,arr_shape[0]) and idx_i[1] not in range(-1,arr_shape[0]):\n",
        "      continue\n",
        "    if idx_j[0] not in range(-1,arr_shape[1]) and idx_j[1] not in range(-1,arr_shape[1]): \n",
        "      print(list_neighboor,element,idx_j[0],idx_j[1])\n",
        "      continue\n",
        "    if idx_i[1] != -1:\n",
        "      v.append(my_array[idx_i[1]][j])\n",
        "    if idx_j[1] != -1:\n",
        "      v.append(my_array[i][idx_j[1]])\n",
        "    if idx_i[0] != arr_shape[0]:\n",
        "      v.append(my_array[idx_i[0]][j])\n",
        "    if idx_j[0] != arr_shape[1]:\n",
        "      v.append(my_array[i][idx_j[0]])\n",
        "    list_neighboor.append(v)\n",
        "    v = []\n",
        "    #print(list_neighboor,element)\n",
        "   \n",
        "\n",
        "    # print(m,element,my_array[idx_i[0]][j],my_array[idx_i[1]][j],my_array[i][idx_j[0]],my_array[i][idx_j[1]])\n"
      ],
      "metadata": {
        "id": "U0jLx2qNzOSQ"
      },
      "execution_count": 271,
      "outputs": []
    },
    {
      "cell_type": "code",
      "source": [
        "sum = 0\n",
        "len = 0\n",
        "for x in list_neighboor:\n",
        "  if x[0] < min(x[1:]):\n",
        "    sum += (x[0])\n",
        "    len += 1"
      ],
      "metadata": {
        "id": "w_-UeQnGTj1j"
      },
      "execution_count": 281,
      "outputs": []
    },
    {
      "cell_type": "code",
      "source": [
        "sum+len"
      ],
      "metadata": {
        "colab": {
          "base_uri": "https://localhost:8080/"
        },
        "id": "94YoQRGouTyP",
        "outputId": "90cc6727-c29c-45b3-d331-0e62825bce48"
      },
      "execution_count": 283,
      "outputs": [
        {
          "output_type": "execute_result",
          "data": {
            "text/plain": [
              "458"
            ]
          },
          "metadata": {},
          "execution_count": 283
        }
      ]
    }
  ]
}