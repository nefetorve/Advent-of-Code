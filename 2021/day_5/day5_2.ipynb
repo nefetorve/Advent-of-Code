{
  "nbformat": 4,
  "nbformat_minor": 0,
  "metadata": {
    "colab": {
      "name": "day5_2.ipynb",
      "provenance": [],
      "authorship_tag": "ABX9TyNO0CbBZ4p3zCzWecECuQ+S",
      "include_colab_link": true
    },
    "kernelspec": {
      "name": "python3",
      "display_name": "Python 3"
    },
    "language_info": {
      "name": "python"
    }
  },
  "cells": [
    {
      "cell_type": "markdown",
      "metadata": {
        "id": "view-in-github",
        "colab_type": "text"
      },
      "source": [
        "<a href=\"https://colab.research.google.com/github/nefetorve/Advent-of-Code/blob/main/2021/day_5/day5_2.ipynb\" target=\"_parent\"><img src=\"https://colab.research.google.com/assets/colab-badge.svg\" alt=\"Open In Colab\"/></a>"
      ]
    },
    {
      "cell_type": "code",
      "metadata": {
        "id": "WHrZkBC-C8dq"
      },
      "source": [
        "values = [\"0,9 -> 5,9\",\n",
        "\"8,0 -> 0,8\",\n",
        "\"9,4 -> 3,4\",\n",
        "\"2,2 -> 2,1\",\n",
        "\"7,0 -> 7,4\",\n",
        "\"6,4 -> 2,0\",\n",
        "\"0,9 -> 2,9\",\n",
        "\"3,4 -> 1,4\",\n",
        "\"0,0 -> 8,8\",\n",
        "\"5,5 -> 8,2\"]\n",
        "\n",
        "with open('input.txt') as f:\n",
        "    values = f.read().splitlines()\n",
        "new_values = []\n",
        "for value in values:\n",
        "  value = value.split(\"->\")\n",
        "  for _,v in enumerate(value):\n",
        "    v = v.split(\",\")\n",
        "    new_values.append(v)"
      ],
      "execution_count": 9,
      "outputs": []
    },
    {
      "cell_type": "code",
      "metadata": {
        "id": "FqUg67eCGHYy"
      },
      "source": [
        "pair = []\n",
        "values = []\n",
        "for value in new_values:\n",
        "  for _,i in enumerate(value):\n",
        "    pair.append(int(i))\n",
        "    if _ >= 1:\n",
        "      values.append(pair)\n",
        "      pair = []"
      ],
      "execution_count": 10,
      "outputs": []
    },
    {
      "cell_type": "code",
      "metadata": {
        "id": "NZesRlrcFuSq"
      },
      "source": [
        "def every_first_element(values):\n",
        "    second_values = []\n",
        "\n",
        "    for index in range(0, len(values), 2):\n",
        "        second_values.append(values[index])\n",
        "\n",
        "    return second_values \n",
        "def every_second_element(values):\n",
        "    second_values = []\n",
        "\n",
        "    for index in range(1, len(values), 2):\n",
        "        second_values.append(values[index])\n",
        "\n",
        "    return second_values "
      ],
      "execution_count": 11,
      "outputs": []
    },
    {
      "cell_type": "code",
      "metadata": {
        "id": "6oQkhwM0MylO"
      },
      "source": [
        "element_1 = every_first_element(values)\n",
        "element_2 =  every_second_element(values)"
      ],
      "execution_count": 12,
      "outputs": []
    },
    {
      "cell_type": "code",
      "metadata": {
        "id": "T30n8YvENWRC"
      },
      "source": [
        "import numpy as np\n",
        "element_1 = np.array(element_1)\n",
        "element_2 = np.array(element_2)"
      ],
      "execution_count": 13,
      "outputs": []
    },
    {
      "cell_type": "code",
      "metadata": {
        "id": "0NMFc0MVNuDM"
      },
      "source": [
        "mask = (element_1 == element_2)"
      ],
      "execution_count": 14,
      "outputs": []
    },
    {
      "cell_type": "code",
      "metadata": {
        "id": "VDABm36ZN5Ny"
      },
      "source": [
        "mask_element = mask*element_1 "
      ],
      "execution_count": 15,
      "outputs": []
    },
    {
      "cell_type": "code",
      "metadata": {
        "id": "RkixT6jQP-5l"
      },
      "source": [
        ""
      ],
      "execution_count": 15,
      "outputs": []
    },
    {
      "cell_type": "code",
      "metadata": {
        "id": "C8-zayYmQEs3"
      },
      "source": [
        "\n"
      ],
      "execution_count": 15,
      "outputs": []
    },
    {
      "cell_type": "code",
      "metadata": {
        "id": "srVd6WdHSMxV"
      },
      "source": [
        ""
      ],
      "execution_count": 15,
      "outputs": []
    },
    {
      "cell_type": "code",
      "metadata": {
        "id": "100TOLAFyPQB"
      },
      "source": [
        "points = []\n",
        "values_points_x_or_y = []\n",
        "values_xy = []\n",
        "for _,mask in enumerate(mask_element):\n",
        "    value = None\n",
        "    if mask[0] !=0:\n",
        "      idx_value = 0 \n",
        "      value = mask[idx_value]\n",
        "      idx = 1\n",
        "    if mask[1] !=0:\n",
        "      idx_value = 1\n",
        "      value = mask[idx_value]\n",
        "      idx = 0\n",
        "\n",
        "    if value == None:\n",
        "      value_x1 = element_1[_][0]\n",
        "      value_y1 = element_1[_][1]\n",
        "      value_x2 = element_2[_][0]\n",
        "      value_y2 = element_2[_][1]\n",
        "      if value_x1-value_x2>=0:\n",
        "        i = -1\n",
        "        values_x = np.arange(value_x1,value_x2+i,i)\n",
        "      else:\n",
        "        i = 1\n",
        "        values_x = np.arange(value_x1,value_x2+i,i)\n",
        "      if value_y1-value_y2>=0:\n",
        "        i = -1\n",
        "        values_y = np.arange(value_y1,value_y2+i,i)\n",
        "      else:\n",
        "        i = 1\n",
        "        values_y = np.arange(value_y1,value_y2+i,i)\n",
        "      value_xy = (values_x,values_y)\n",
        "      values_xy.append(value_xy)\n",
        "\n",
        "\n",
        "    if value!=None:\n",
        "      if element_1[_][idx]-element_2[_][idx] >= 0: \n",
        "        i = -1\n",
        "        values = np.arange(element_1[_][idx],element_2[_][idx]+i,i)\n",
        "      else: \n",
        "        i = 1\n",
        "        values = np.arange(element_1[_][idx],element_2[_][idx]+i,i)\n",
        "    \n",
        "\n",
        "      \n",
        "      points_per_position = (value,idx_value)\n",
        "      points.append(points_per_position)\n",
        "      values_points_x_or_y.append(values)"
      ],
      "execution_count": 16,
      "outputs": []
    },
    {
      "cell_type": "code",
      "metadata": {
        "id": "sR7ivUf1yfIK"
      },
      "source": [
        ""
      ],
      "execution_count": 16,
      "outputs": []
    },
    {
      "cell_type": "code",
      "metadata": {
        "id": "yV4cCcIaT4qT"
      },
      "source": [
        "new_array = []\n",
        "for _,point in enumerate(values_points_x_or_y):\n",
        "  for __,z in enumerate(point):\n",
        "    new_value = points[_][0]\n",
        "    if points[_][1] == 0:\n",
        "      elements = [new_value,z]\n",
        "    if points[_][1] == 1:\n",
        "      elements = [z,new_value]\n",
        "    new_array.append(elements)"
      ],
      "execution_count": 17,
      "outputs": []
    },
    {
      "cell_type": "code",
      "metadata": {
        "id": "m7bnArYcd0P_"
      },
      "source": [
        "pair = []\n",
        "new_list = []\n",
        "for _,values in enumerate(values_xy):\n",
        "  for __,value in enumerate(values):\n",
        "    if __<= 1:\n",
        "      pair.append(value)\n",
        "    new_list.append(pair)\n",
        "    pair = []\n",
        "    "
      ],
      "execution_count": 18,
      "outputs": []
    },
    {
      "cell_type": "code",
      "metadata": {
        "id": "jZ4UyaEkuwbX"
      },
      "source": [
        "new_params = []\n",
        "for _,point in enumerate(new_list):\n",
        "  for __,z in enumerate(point):\n",
        "    value = z.tolist()\n",
        "    new_params.append(value)"
      ],
      "execution_count": 19,
      "outputs": []
    },
    {
      "cell_type": "code",
      "metadata": {
        "id": "ft3Iyq6D1ji0"
      },
      "source": [
        "compare = []\n",
        "a = every_first_element(new_params)\n",
        "b =  every_second_element(new_params)\n",
        "for _,list in enumerate(a):\n",
        "  for __,i in enumerate(list):\n",
        "    values = [i,b[_][__]]\n",
        "    compare.append(values)"
      ],
      "execution_count": 20,
      "outputs": []
    },
    {
      "cell_type": "code",
      "metadata": {
        "id": "DaB5yIGV27dZ"
      },
      "source": [
        ""
      ],
      "execution_count": 20,
      "outputs": []
    },
    {
      "cell_type": "code",
      "metadata": {
        "id": "0qWgHNm02bg-"
      },
      "source": [
        ""
      ],
      "execution_count": 20,
      "outputs": []
    },
    {
      "cell_type": "code",
      "metadata": {
        "id": "uuP4Upl3wWyE"
      },
      "source": [
        "for element in compare: \n",
        "  new_array.append(element)"
      ],
      "execution_count": 21,
      "outputs": []
    },
    {
      "cell_type": "code",
      "metadata": {
        "id": "s1h9BbRff4V-"
      },
      "source": [
        "import pandas as pd\n",
        "df = pd.DataFrame(new_array)\n",
        "df = df.rename(columns={0: 'x',1:\"y\"})"
      ],
      "execution_count": 22,
      "outputs": []
    },
    {
      "cell_type": "code",
      "metadata": {
        "id": "eQkyqQozhr6U"
      },
      "source": [
        "df_duplicate = df[df.duplicated(['x',\"y\"])]"
      ],
      "execution_count": 23,
      "outputs": []
    },
    {
      "cell_type": "code",
      "metadata": {
        "id": "2PqHu1P3kO3Y"
      },
      "source": [
        "df_duplicate = df_duplicate.values.tolist()\n",
        "df =  df.values.tolist()\n"
      ],
      "execution_count": 24,
      "outputs": []
    },
    {
      "cell_type": "code",
      "metadata": {
        "id": "Q2b9b95fo2jy"
      },
      "source": [
        ""
      ],
      "execution_count": 24,
      "outputs": []
    },
    {
      "cell_type": "code",
      "metadata": {
        "id": "G4Y13BQWlGw3"
      },
      "source": [
        "count = 0\n",
        "tmp = []\n",
        "for i in df_duplicate:\n",
        "  if i in tmp:\n",
        "    continue\n",
        "  if i in df:\n",
        "    count +=1 \n",
        "    tmp.append(i)"
      ],
      "execution_count": 25,
      "outputs": []
    },
    {
      "cell_type": "code",
      "metadata": {
        "colab": {
          "base_uri": "https://localhost:8080/"
        },
        "id": "ihysilM1m0zP",
        "outputId": "9cc14337-e0ff-4239-a68a-5a66b5a9de57"
      },
      "source": [
        "count"
      ],
      "execution_count": 26,
      "outputs": [
        {
          "output_type": "execute_result",
          "data": {
            "text/plain": [
              "21514"
            ]
          },
          "metadata": {},
          "execution_count": 26
        }
      ]
    }
  ]
}